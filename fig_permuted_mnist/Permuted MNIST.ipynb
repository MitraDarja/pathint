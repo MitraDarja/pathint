{
 "cells": [
  {
   "cell_type": "code",
   "execution_count": null,
   "metadata": {
    "collapsed": true
   },
   "outputs": [],
   "source": [
    "# Copyright (c) 2017 Ben Poole & Friedemann Zenke\n",
    "# MIT License -- see LICENSE for details\n",
    "# \n",
    "# This file is part of the code to reproduce the core results of:\n",
    "# Zenke, F., Poole, B., and Ganguli, S. (2017). Continual Learning Through\n",
    "# Synaptic Intelligence. In Proceedings of the 34th International Conference on\n",
    "# Machine Learning, D. Precup, and Y.W. Teh, eds. (International Convention\n",
    "# Centre, Sydney, Australia: PMLR), pp. 3987–3995.\n",
    "# http://proceedings.mlr.press/v70/zenke17a.html"
   ]
  },
  {
   "cell_type": "code",
   "execution_count": 1,
   "metadata": {
    "collapsed": false,
    "scrolled": true
   },
   "outputs": [
    {
     "name": "stdout",
     "output_type": "stream",
     "text": [
      "Populating the interactive namespace from numpy and matplotlib\n"
     ]
    },
    {
     "name": "stderr",
     "output_type": "stream",
     "text": [
      "/usr/local/lib/python3.5/dist-packages/h5py/__init__.py:34: FutureWarning: Conversion of the second argument of issubdtype from `float` to `np.floating` is deprecated. In future, it will be treated as `np.float64 == np.dtype(float).type`.\n",
      "  from ._conv import register_converters as _register_converters\n",
      "Using TensorFlow backend.\n"
     ]
    }
   ],
   "source": [
    "%load_ext autoreload\n",
    "%autoreload 2\n",
    "%pylab inline\n",
    "\n",
    "import tensorflow as tf\n",
    "slim = tf.contrib.slim\n",
    "graph_replace = tf.contrib.graph_editor.graph_replace\n",
    "\n",
    "import sys, os\n",
    "sys.path.extend([os.path.expanduser('..')])\n",
    "from pathint import utils\n",
    "import seaborn as sns\n",
    "sns.set_style(\"white\")\n",
    "\n",
    "from tqdm import trange, tqdm\n",
    "\n",
    "import matplotlib.colors as colors\n",
    "import matplotlib.cm as cmx"
   ]
  },
  {
   "cell_type": "markdown",
   "metadata": {},
   "source": [
    "## Parameters"
   ]
  },
  {
   "cell_type": "code",
   "execution_count": 2,
   "metadata": {
    "collapsed": true
   },
   "outputs": [],
   "source": [
    "# Data params\n",
    "input_dim = 784\n",
    "output_dim = 10\n",
    "\n",
    "# Network params\n",
    "n_hidden_units = 2000\n",
    "activation_fn = tf.nn.relu\n",
    "\n",
    "# Optimization params\n",
    "batch_size = 256\n",
    "epochs_per_task = 20 \n",
    "learning_rate=1e-3\n",
    "xi = 0.1\n",
    "\n",
    "# Reset optimizer after each age\n",
    "reset_optimizer = False"
   ]
  },
  {
   "cell_type": "markdown",
   "metadata": {},
   "source": [
    "## Construct datasets"
   ]
  },
  {
   "cell_type": "code",
   "execution_count": 3,
   "metadata": {
    "collapsed": true
   },
   "outputs": [],
   "source": [
    "n_tasks = 10\n",
    "full_datasets, final_test_datasets = utils.construct_permute_mnist(num_tasks=n_tasks)\n",
    "# training_datasets, validation_datasets = utils.mk_training_validation_splits(full_datasets, split_fractions=(0.9, 0.1))\n",
    "training_datasets = full_datasets\n",
    "validation_datasets = final_test_datasets"
   ]
  },
  {
   "cell_type": "markdown",
   "metadata": {},
   "source": [
    "## Construct network, loss, and updates"
   ]
  },
  {
   "cell_type": "code",
   "execution_count": 4,
   "metadata": {
    "collapsed": true
   },
   "outputs": [],
   "source": [
    "tf.reset_default_graph()"
   ]
  },
  {
   "cell_type": "code",
   "execution_count": 5,
   "metadata": {
    "collapsed": true
   },
   "outputs": [],
   "source": [
    "config = tf.ConfigProto()\n",
    "config.gpu_options.allow_growth=True\n",
    "sess = tf.InteractiveSession(config=config)\n",
    "sess.run(tf.global_variables_initializer())"
   ]
  },
  {
   "cell_type": "code",
   "execution_count": 6,
   "metadata": {
    "collapsed": true
   },
   "outputs": [],
   "source": [
    "from keras.models import Sequential\n",
    "from keras.layers import Dense, Dropout\n",
    "model = Sequential()\n",
    "model.add(Dense(n_hidden_units, activation=activation_fn, input_dim=input_dim))\n",
    "model.add(Dense(n_hidden_units, activation=activation_fn))\n",
    "model.add(Dense(output_dim, activation='softmax'))"
   ]
  },
  {
   "cell_type": "code",
   "execution_count": 7,
   "metadata": {
    "collapsed": true
   },
   "outputs": [],
   "source": [
    "from pathint import protocols\n",
    "from pathint.optimizers import KOOptimizer\n",
    "from keras.optimizers import SGD, Adam, RMSprop\n",
    "from keras.callbacks import Callback\n",
    "from pathint.keras_utils import LossHistory\n",
    "\n",
    "\n",
    "protocol_name, protocol = protocols.PATH_INT_PROTOCOL(omega_decay='sum', xi=xi)\n",
    "# protocol_name, protocol = protocols.FISHER_PROTOCOL(omega_decay='sum')\n",
    "opt = Adam(lr=learning_rate, beta_1=0.9, beta_2=0.999)\n",
    "opt_name = 'adam'\n",
    "# opt = SGD(lr=learning_rate)\n",
    "# opt_name = 'sgd'\n",
    "oopt = KOOptimizer(opt, model=model, **protocol)\n",
    "model.compile(loss=\"categorical_crossentropy\", optimizer=oopt, metrics=['accuracy'])\n",
    "\n",
    "history = LossHistory()\n",
    "callbacks = [history]"
   ]
  },
  {
   "cell_type": "code",
   "execution_count": 8,
   "metadata": {
    "collapsed": true
   },
   "outputs": [],
   "source": [
    "file_prefix = \"data_%s_opt%s_lr%.2e_bs%i_ep%i_tsks%i\"%(protocol_name, opt_name, learning_rate, batch_size, epochs_per_task, n_tasks)\n",
    "datafile_name = \"%s.pkl.gz\"%(file_prefix)"
   ]
  },
  {
   "cell_type": "markdown",
   "metadata": {},
   "source": [
    "## Train!"
   ]
  },
  {
   "cell_type": "code",
   "execution_count": 9,
   "metadata": {
    "collapsed": true,
    "scrolled": true
   },
   "outputs": [],
   "source": [
    "diag_vals = dict()\n",
    "all_evals = dict()\n",
    "# all_evals = utils.load_zipped_pickle(datafile_name)\n",
    "# returns empty dict if file not found\n",
    "\n",
    "def run_fits(cvals, training_data, valid_data, eval_on_train_set=False):\n",
    "    for cidx, cval_ in enumerate(cvals):\n",
    "        fs = []\n",
    "        evals = []\n",
    "        sess.run(tf.global_variables_initializer())\n",
    "        cstuffs = []\n",
    "        cval = cval_\n",
    "        print( \"setting cval\")\n",
    "        oopt.set_strength(cval)\n",
    "        print(\"cval is %e\"%sess.run(oopt.lam))\n",
    "        for age, tidx in enumerate(range(n_tasks)):\n",
    "            print(\"Age %i, cval is=%f\"%(age,cval))\n",
    "            oopt.set_nb_data(len(training_data[tidx][0]))\n",
    "            stuffs = model.fit(training_data[tidx][0], training_data[tidx][1], batch_size, epochs_per_task, callbacks=callbacks,\n",
    "                              verbose=0)\n",
    "            oopt.update_task_metrics(training_data[tidx][0], training_data[tidx][1], batch_size)\n",
    "            oopt.update_task_vars()\n",
    "            ftask = []\n",
    "            for j in range(n_tasks):\n",
    "                if eval_on_train_set:\n",
    "                    f_ = model.evaluate(training_data[j][0], training_data[j][1], batch_size, verbose=0)\n",
    "                else:\n",
    "                    f_ = model.evaluate(valid_data[j][0], valid_data[j][1], batch_size, verbose=0)\n",
    "                ftask.append(np.mean(f_[1]))\n",
    "            evals.append(ftask)\n",
    "            cstuffs.append(stuffs)\n",
    "            \n",
    "            # Re-initialize optimizer variables\n",
    "            if reset_optimizer:\n",
    "                oopt.reset_optimizer()\n",
    "\n",
    "        # diag_vals[cval_] = oopt.get_numvals('omega')\n",
    "        evals = np.array(evals)\n",
    "        all_evals[cval_] = evals\n",
    "        \n",
    "        # backup all_evals to disk\n",
    "        utils.save_zipped_pickle(all_evals, datafile_name)"
   ]
  },
  {
   "cell_type": "code",
   "execution_count": 10,
   "metadata": {
    "collapsed": false
   },
   "outputs": [
    {
     "name": "stdout",
     "output_type": "stream",
     "text": [
      "[0, 0.01, 0.1, 1.0]\n"
     ]
    }
   ],
   "source": [
    "cvals = [0, 0.01, 0.1, 1.0]\n",
    "print(cvals)"
   ]
  },
  {
   "cell_type": "code",
   "execution_count": 11,
   "metadata": {
    "collapsed": false
   },
   "outputs": [
    {
     "name": "stdout",
     "output_type": "stream",
     "text": [
      "setting cval\n",
      "cval is 0.000000e+00\n",
      "Age 0, cval is=0.000000\n",
      "Age 1, cval is=0.000000\n",
      "Age 2, cval is=0.000000\n",
      "Age 3, cval is=0.000000\n",
      "Age 4, cval is=0.000000\n",
      "Age 5, cval is=0.000000\n",
      "Age 6, cval is=0.000000\n",
      "Age 7, cval is=0.000000\n",
      "Age 8, cval is=0.000000\n",
      "Age 9, cval is=0.000000\n",
      "setting cval\n",
      "cval is 1.000000e-02\n",
      "Age 0, cval is=0.010000\n",
      "Age 1, cval is=0.010000\n",
      "Age 2, cval is=0.010000\n",
      "Age 3, cval is=0.010000\n",
      "Age 4, cval is=0.010000\n",
      "Age 5, cval is=0.010000\n",
      "Age 6, cval is=0.010000\n",
      "Age 7, cval is=0.010000\n",
      "Age 8, cval is=0.010000\n",
      "Age 9, cval is=0.010000\n",
      "setting cval\n",
      "cval is 1.000000e-01\n",
      "Age 0, cval is=0.100000\n",
      "Age 1, cval is=0.100000\n",
      "Age 2, cval is=0.100000\n",
      "Age 3, cval is=0.100000\n",
      "Age 4, cval is=0.100000\n",
      "Age 5, cval is=0.100000\n",
      "Age 6, cval is=0.100000\n",
      "Age 7, cval is=0.100000\n",
      "Age 8, cval is=0.100000\n",
      "Age 9, cval is=0.100000\n",
      "setting cval\n",
      "cval is 1.000000e+00\n",
      "Age 0, cval is=1.000000\n",
      "Age 1, cval is=1.000000\n",
      "Age 2, cval is=1.000000\n",
      "Age 3, cval is=1.000000\n",
      "Age 4, cval is=1.000000\n",
      "Age 5, cval is=1.000000\n",
      "Age 6, cval is=1.000000\n",
      "Age 7, cval is=1.000000\n",
      "Age 8, cval is=1.000000\n",
      "Age 9, cval is=1.000000\n"
     ]
    }
   ],
   "source": [
    "# %%capture\n",
    "run_fits(cvals, training_datasets, validation_datasets)"
   ]
  },
  {
   "cell_type": "code",
   "execution_count": 12,
   "metadata": {
    "collapsed": true
   },
   "outputs": [],
   "source": [
    "# backup all_evals to disk\n",
    "# all_evals = dict() # uncomment to delete on disk\n",
    "utils.save_zipped_pickle(all_evals, datafile_name)"
   ]
  },
  {
   "cell_type": "code",
   "execution_count": 13,
   "metadata": {
    "collapsed": true
   },
   "outputs": [],
   "source": [
    "o = oopt.get_numvals_list('omega')"
   ]
  },
  {
   "cell_type": "code",
   "execution_count": 14,
   "metadata": {
    "collapsed": false
   },
   "outputs": [
    {
     "name": "stdout",
     "output_type": "stream",
     "text": [
      "(-4, 0.0)\n"
     ]
    }
   ],
   "source": [
    "cmap = plt.get_cmap('cool') \n",
    "cNorm  = colors.Normalize(vmin=-4, vmax=np.log(np.max(list(all_evals.keys()))))\n",
    "# cNorm  = colors.Normalize()\n",
    "scalarMap = cmx.ScalarMappable(norm=cNorm, cmap=cmap)\n",
    "print(scalarMap.get_clim())"
   ]
  },
  {
   "cell_type": "code",
   "execution_count": 15,
   "metadata": {
    "collapsed": false
   },
   "outputs": [
    {
     "name": "stderr",
     "output_type": "stream",
     "text": [
      "/usr/local/lib/python3.5/dist-packages/ipykernel_launcher.py:12: RuntimeWarning: divide by zero encountered in log\n",
      "  if sys.path[0] == '':\n",
      "/usr/local/lib/python3.5/dist-packages/matplotlib/axes/_axes.py:545: UserWarning: No labelled objects found. Use label='...' kwarg on individual plots.\n",
      "  warnings.warn(\"No labelled objects found. \"\n"
     ]
    },
    {
     "data": {
      "image/png": "[encoded data removed]",
      "text/plain": [
       "<matplotlib.figure.Figure at 0x7fe3d9197c18>"
      ]
     },
     "metadata": {},
     "output_type": "display_data"
    }
   ],
   "source": [
    "figure(figsize=(14, 4))\n",
    "axs = [subplot(1,n_tasks+1,1)]#, None, None]\n",
    "for i in range(1, n_tasks + 1):\n",
    "    axs.append(subplot(1, n_tasks+1, i+1, sharex=axs[0], sharey=axs[0]))\n",
    "    \n",
    "keys = list(all_evals.keys())\n",
    "sorted_keys = np.sort(keys)\n",
    "\n",
    "for cval in sorted_keys:\n",
    "    evals = all_evals[cval]\n",
    "    for j in range(n_tasks):\n",
    "        colorVal = scalarMap.to_rgba(np.log(cval))\n",
    "        axs[j].plot(evals[:, j], c=colorVal)#, label=\"t%d, c%g\"%(j, cval))\n",
    "    label = \"c=%g\"%cval\n",
    "    average = evals.mean(1)\n",
    "    axs[-1].plot(average, c=colorVal, label=label)\n",
    "    \n",
    "for i, ax in enumerate(axs):\n",
    "    ax.legend(bbox_to_anchor=(1.0,1.0))\n",
    "    ax.set_title((['task %d'%j for j in range(n_tasks)] + ['average'])[i])\n",
    "gcf().tight_layout()"
   ]
  },
  {
   "cell_type": "code",
   "execution_count": 16,
   "metadata": {
    "collapsed": false
   },
   "outputs": [
    {
     "data": {
      "image/png": "[encoded data removed]",
      "text/plain": [
       "<matplotlib.figure.Figure at 0x7fe3a21e3080>"
      ]
     },
     "metadata": {},
     "output_type": "display_data"
    }
   ],
   "source": [
    "for cval in sorted_keys:\n",
    "    stuff = []\n",
    "    for i in range(len(all_evals[cval])):#n_tasks):\n",
    "        stuff.append(all_evals[cval][i][:i+1].mean())\n",
    "    plot(range(1,n_tasks+1), stuff, 'o-', label=\"c=%g\"%cval)\n",
    "axhline(all_evals[cval][0][0], linestyle='--', color='k')\n",
    "    \n",
    "xlabel('Number of tasks')\n",
    "ylabel('Fraction correct')\n",
    "legend(loc='best')\n",
    "ylim(0.9, 1.02)\n",
    "xlim(0.5, 10.5)\n",
    "grid('on')\n",
    "\n",
    "savefig(\"%s.pdf\"%(file_prefix))"
   ]
  },
  {
   "cell_type": "code",
   "execution_count": null,
   "metadata": {
    "collapsed": true
   },
   "outputs": [],
   "source": []
  }
 ],
 "metadata": {
  "kernelspec": {
   "display_name": "Python 3",
   "language": "python",
   "name": "python3"
  },
  "language_info": {
   "codemirror_mode": {
    "name": "ipython",
    "version": 3
   },
   "file_extension": ".py",
   "mimetype": "text/x-python",
   "name": "python",
   "nbconvert_exporter": "python",
   "pygments_lexer": "ipython3",
   "version": "3.5.2"
  }
 },
 "nbformat": 4,
 "nbformat_minor": 2
}
